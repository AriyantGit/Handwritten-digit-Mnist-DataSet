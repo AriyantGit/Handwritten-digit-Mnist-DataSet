{
 "cells": [
  {
   "cell_type": "code",
   "execution_count": 1,
   "id": "44cf9161",
   "metadata": {},
   "outputs": [],
   "source": [
    "import tensorflow\n",
    "from tensorflow import keras\n",
    "from tensorflow.keras import Sequential\n",
    "from tensorflow.keras.layers import Dense,Flatten\n",
    "from tensorflow.keras.layers import Dropout"
   ]
  },
  {
   "cell_type": "code",
   "execution_count": 2,
   "id": "46380a5c",
   "metadata": {},
   "outputs": [],
   "source": [
    "import os\n",
    "import cv2\n",
    "import numpy as np"
   ]
  },
  {
   "cell_type": "code",
   "execution_count": 3,
   "id": "b110dc46",
   "metadata": {},
   "outputs": [],
   "source": [
    "from sklearn.model_selection import train_test_split"
   ]
  },
  {
   "cell_type": "code",
   "execution_count": 4,
   "id": "f9101f54",
   "metadata": {},
   "outputs": [],
   "source": [
    "import matplotlib.pyplot as plt"
   ]
  },
  {
   "cell_type": "code",
   "execution_count": 5,
   "id": "21206490",
   "metadata": {},
   "outputs": [],
   "source": [
    "#pip install opencv-python"
   ]
  },
  {
   "cell_type": "code",
   "execution_count": 6,
   "id": "d6786c7c",
   "metadata": {},
   "outputs": [],
   "source": [
    "datapath=\"trainingSet/\""
   ]
  },
  {
   "cell_type": "code",
   "execution_count": 7,
   "id": "baa44ae6",
   "metadata": {},
   "outputs": [
    {
     "name": "stdout",
     "output_type": "stream",
     "text": [
      "Total No of Classes: 10\n"
     ]
    }
   ],
   "source": [
    "myList=os.listdir(datapath)\n",
    "print(\"Total No of Classes:\",len(myList))\n",
    "noOfClass=len(myList)"
   ]
  },
  {
   "cell_type": "code",
   "execution_count": 8,
   "id": "a31befbe",
   "metadata": {},
   "outputs": [
    {
     "name": "stdout",
     "output_type": "stream",
     "text": [
      "loading Images...\n",
      "Importing Classes: 0 1 2 3 4 5 6 7 8 9 \n",
      "Image Load Successfully Completed!!!\n"
     ]
    }
   ],
   "source": [
    "images=[]\n",
    "classNo=[]\n",
    "print(\"loading Images...\")\n",
    "print(\"Importing Classes:\",end=\" \")\n",
    "for x in range(0,noOfClass):\n",
    "    myPicList=os.listdir(datapath+\"/\"+str(x))\n",
    "    for y in myPicList:\n",
    "        curImg=cv2.imread(datapath+\"/\"+str(x)+\"/\"+y)\n",
    "        curImg=cv2.resize(curImg,(28,28))\n",
    "        images.append(curImg)\n",
    "        classNo.append(x)\n",
    "    print(x,end=\" \")\n",
    "print(\"\\nImage Load Successfully Completed!!!\")"
   ]
  },
  {
   "cell_type": "code",
   "execution_count": 9,
   "id": "fb8498d2",
   "metadata": {},
   "outputs": [
    {
     "name": "stdout",
     "output_type": "stream",
     "text": [
      "42000\n",
      "42000\n"
     ]
    }
   ],
   "source": [
    "print(len(images))\n",
    "print(len(classNo))"
   ]
  },
  {
   "cell_type": "code",
   "execution_count": 10,
   "id": "16333d85",
   "metadata": {},
   "outputs": [],
   "source": [
    "images=np.array(images)\n",
    "classNo=np.array(classNo)"
   ]
  },
  {
   "cell_type": "code",
   "execution_count": 11,
   "id": "d79a6893",
   "metadata": {},
   "outputs": [
    {
     "name": "stdout",
     "output_type": "stream",
     "text": [
      "(42000, 28, 28, 3)\n",
      "(42000,)\n"
     ]
    }
   ],
   "source": [
    "print(images.shape)\n",
    "print(classNo.shape)"
   ]
  },
  {
   "cell_type": "code",
   "execution_count": 12,
   "id": "8a8b39cc",
   "metadata": {},
   "outputs": [],
   "source": [
    "X_train,X_test,y_train,y_test=train_test_split(images,classNo,test_size=0.2)"
   ]
  },
  {
   "cell_type": "code",
   "execution_count": 13,
   "id": "4274ef46",
   "metadata": {},
   "outputs": [
    {
     "name": "stdout",
     "output_type": "stream",
     "text": [
      "(33600, 28, 28, 3)\n",
      "(8400, 28, 28, 3)\n"
     ]
    }
   ],
   "source": [
    "print(X_train.shape)\n",
    "print(X_test.shape)"
   ]
  },
  {
   "cell_type": "code",
   "execution_count": 14,
   "id": "68bf3065",
   "metadata": {},
   "outputs": [],
   "source": [
    "X_train,X_validation,y_train,y_validation=train_test_split(X_train,y_train,test_size=0.2)"
   ]
  },
  {
   "cell_type": "code",
   "execution_count": 15,
   "id": "bafe592f",
   "metadata": {},
   "outputs": [
    {
     "name": "stdout",
     "output_type": "stream",
     "text": [
      "(26880, 28, 28, 3)\n",
      "(8400, 28, 28, 3)\n",
      "(6720, 28, 28, 3)\n"
     ]
    }
   ],
   "source": [
    "print(X_train.shape)\n",
    "print(X_test.shape)\n",
    "print(X_validation.shape)"
   ]
  },
  {
   "cell_type": "code",
   "execution_count": 16,
   "id": "318ccc58",
   "metadata": {},
   "outputs": [],
   "source": [
    "numofsample=[]\n",
    "for x in range(0,noOfClass):\n",
    "    numofsample.append(len(np.where(y_train==x)[0]))"
   ]
  },
  {
   "cell_type": "code",
   "execution_count": 17,
   "id": "aba64915",
   "metadata": {},
   "outputs": [
    {
     "data": {
      "text/plain": [
       "[2677, 2964, 2653, 2777, 2613, 2436, 2660, 2823, 2591, 2686]"
      ]
     },
     "execution_count": 17,
     "metadata": {},
     "output_type": "execute_result"
    }
   ],
   "source": [
    "numofsample"
   ]
  },
  {
   "cell_type": "code",
   "execution_count": 18,
   "id": "bbaab87c",
   "metadata": {},
   "outputs": [
    {
     "data": {
      "image/png": "[encoded data removed]",
      "text/plain": [
       "<Figure size 1000x500 with 1 Axes>"
      ]
     },
     "metadata": {},
     "output_type": "display_data"
    }
   ],
   "source": [
    "plt.figure(figsize=(10,5))\n",
    "plt.bar(range(0,noOfClass),numofsample)\n",
    "plt.title(\"Number Of class Images in  each class\")\n",
    "plt.xlabel(\"Class ID\")\n",
    "plt.ylabel(\"Numbe of Images\")\n",
    "plt.show()"
   ]
  },
  {
   "cell_type": "code",
   "execution_count": 19,
   "id": "8102cde1",
   "metadata": {},
   "outputs": [],
   "source": [
    "def preProcessing(img):\n",
    "    img=cv2.cvtColor(img,cv2.COLOR_BGR2GRAY)\n",
    "    img=cv2.equalizeHist(img)\n",
    "    img=img/255\n",
    "    return img"
   ]
  },
  {
   "cell_type": "code",
   "execution_count": 20,
   "id": "3c0ab1ec",
   "metadata": {},
   "outputs": [
    {
     "data": {
      "text/plain": [
       "-1"
      ]
     },
     "execution_count": 20,
     "metadata": {},
     "output_type": "execute_result"
    }
   ],
   "source": [
    "X_train=np.array(list(map(preProcessing,X_train)))\n",
    "#img=preProcessing(X_train[31])\n",
    "img=X_train[30]\n",
    "img=cv2.resize(img,(300,300))\n",
    "cv2.imshow(\"Preprocessed\",img)\n",
    "cv2.waitKey(0)"
   ]
  },
  {
   "cell_type": "code",
   "execution_count": 21,
   "id": "f0ab7eda",
   "metadata": {},
   "outputs": [
    {
     "data": {
      "text/plain": [
       "(28, 28)"
      ]
     },
     "execution_count": 21,
     "metadata": {},
     "output_type": "execute_result"
    }
   ],
   "source": [
    "X_train[30].shape"
   ]
  },
  {
   "cell_type": "code",
   "execution_count": 22,
   "id": "48407d81",
   "metadata": {},
   "outputs": [],
   "source": [
    "X_test=np.array(list(map(preProcessing,X_test)))\n",
    "X_validation=np.array(list(map(preProcessing,X_validation)))"
   ]
  },
  {
   "cell_type": "code",
   "execution_count": 24,
   "id": "8c73e42b",
   "metadata": {},
   "outputs": [
    {
     "name": "stdout",
     "output_type": "stream",
     "text": [
      "(26880, 28, 28)\n",
      "After Reshape\n",
      "(26880, 28, 28, 1)\n"
     ]
    }
   ],
   "source": [
    "print(X_train.shape)\n",
    "X_train=X_train.reshape(X_train.shape[0],X_train.shape[1],X_train.shape[2],1)\n",
    "print(\"After Reshape\")\n",
    "print(X_train.shape)"
   ]
  },
  {
   "cell_type": "code",
   "execution_count": 25,
   "id": "728097ef",
   "metadata": {},
   "outputs": [],
   "source": [
    "X_test=X_test.reshape(X_test.shape[0],X_test.shape[1],X_test.shape[2],1)\n",
    "X_validation=X_validation.reshape(X_validation.shape[0],X_validation.shape[1],X_validation.shape[2],1)"
   ]
  },
  {
   "cell_type": "code",
   "execution_count": 27,
   "id": "704385a4",
   "metadata": {},
   "outputs": [],
   "source": [
    "from keras.preprocessing.image import ImageDataGenerator"
   ]
  },
  {
   "cell_type": "code",
   "execution_count": 28,
   "id": "6d0ec192",
   "metadata": {},
   "outputs": [],
   "source": [
    "dataGen=ImageDataGenerator(width_shift_range=0.1,\n",
    "                          height_shift_range=0.1,\n",
    "                          zoom_range=0.2,\n",
    "                          shear_range=0.1,\n",
    "                          rotation_range=10)"
   ]
  },
  {
   "cell_type": "code",
   "execution_count": 29,
   "id": "1fca27cd",
   "metadata": {},
   "outputs": [],
   "source": [
    "dataGen.fit(X_train)"
   ]
  },
  {
   "cell_type": "code",
   "execution_count": 31,
   "id": "d5e07b3c",
   "metadata": {},
   "outputs": [],
   "source": [
    "from tensorflow.keras.utils import to_categorical"
   ]
  },
  {
   "cell_type": "code",
   "execution_count": 32,
   "id": "8d02670a",
   "metadata": {},
   "outputs": [],
   "source": [
    "y_train=to_categorical(y_train,noOfClass)\n",
    "y_test=to_categorical(y_test,noOfClass)\n",
    "y_validation=to_categorical(y_validation,noOfClass)"
   ]
  },
  {
   "cell_type": "code",
   "execution_count": 38,
   "id": "36768f78",
   "metadata": {},
   "outputs": [],
   "source": [
    "from keras.layers import Conv2D, MaxPooling2D"
   ]
  },
  {
   "cell_type": "code",
   "execution_count": 40,
   "id": "b36f65a8",
   "metadata": {},
   "outputs": [],
   "source": [
    "from keras.optimizers import Adam"
   ]
  },
  {
   "cell_type": "code",
   "execution_count": 43,
   "id": "a5a317e2",
   "metadata": {},
   "outputs": [],
   "source": [
    "def mycnnmodel():\n",
    "    noOfFilters=60\n",
    "    sizeofFilter1=(5,5)\n",
    "    sizeofFilter2=(3,3)\n",
    "    sizeofPool=(2,2)\n",
    "    noofNode=500\n",
    "    model=Sequential()\n",
    "    model.add((Conv2D(noOfFilters,sizeofFilter1,input_shape=(28,28,1),activation=\"relu\")))\n",
    "    model.add((Conv2D(noOfFilters,sizeofFilter1,activation=\"relu\")))\n",
    "    model.add(MaxPooling2D(pool_size=sizeofPool))\n",
    "    model.add((Conv2D(noOfFilters//2,sizeofFilter2,activation=\"relu\")))\n",
    "    model.add((Conv2D(noOfFilters//2,sizeofFilter2,activation=\"relu\")))\n",
    "    model.add(MaxPooling2D(pool_size=sizeofPool))\n",
    "    model.add(Dropout(0.5))\n",
    "    model.add(Flatten())\n",
    "    model.add(Dense(noofNode,activation='relu'))\n",
    "    model.add(Dropout(0.5))\n",
    "    model.add(Dense(noOfClass,activation='softmax'))\n",
    "    model.compile(Adam(learning_rate=0.001),loss='categorical_crossentropy',metrics=[\"accuracy\"])\n",
    "    return model\n",
    "    "
   ]
  },
  {
   "cell_type": "code",
   "execution_count": 44,
   "id": "52f17410",
   "metadata": {},
   "outputs": [
    {
     "name": "stdout",
     "output_type": "stream",
     "text": [
      "Model: \"sequential_3\"\n",
      "_________________________________________________________________\n",
      " Layer (type)                Output Shape              Param #   \n",
      "=================================================================\n",
      " conv2d_8 (Conv2D)           (None, 24, 24, 60)        1560      \n",
      "                                                                 \n",
      " conv2d_9 (Conv2D)           (None, 20, 20, 60)        90060     \n",
      "                                                                 \n",
      " max_pooling2d_4 (MaxPoolin  (None, 10, 10, 60)        0         \n",
      " g2D)                                                            \n",
      "                                                                 \n",
      " conv2d_10 (Conv2D)          (None, 8, 8, 30)          16230     \n",
      "                                                                 \n",
      " conv2d_11 (Conv2D)          (None, 6, 6, 30)          8130      \n",
      "                                                                 \n",
      " max_pooling2d_5 (MaxPoolin  (None, 3, 3, 30)          0         \n",
      " g2D)                                                            \n",
      "                                                                 \n",
      " dropout_4 (Dropout)         (None, 3, 3, 30)          0         \n",
      "                                                                 \n",
      " flatten_2 (Flatten)         (None, 270)               0         \n",
      "                                                                 \n",
      " dense_4 (Dense)             (None, 500)               135500    \n",
      "                                                                 \n",
      " dropout_5 (Dropout)         (None, 500)               0         \n",
      "                                                                 \n",
      " dense_5 (Dense)             (None, 10)                5010      \n",
      "                                                                 \n",
      "=================================================================\n",
      "Total params: 256490 (1001.91 KB)\n",
      "Trainable params: 256490 (1001.91 KB)\n",
      "Non-trainable params: 0 (0.00 Byte)\n",
      "_________________________________________________________________\n",
      "None\n"
     ]
    }
   ],
   "source": [
    "model=mycnnmodel()\n",
    "print(model.summary())"
   ]
  },
  {
   "cell_type": "code",
   "execution_count": 45,
   "id": "ebdb40a2",
   "metadata": {},
   "outputs": [
    {
     "name": "stderr",
     "output_type": "stream",
     "text": [
      "C:\\Users\\sarka\\AppData\\Local\\Temp\\ipykernel_14376\\3920484354.py:4: UserWarning: `Model.fit_generator` is deprecated and will be removed in a future version. Please use `Model.fit`, which supports generators.\n",
      "  history=model.fit_generator(dataGen.flow(X_train,y_train,\n"
     ]
    },
    {
     "name": "stdout",
     "output_type": "stream",
     "text": [
      "Epoch 1/10\n",
      "500/500 [==============================] - 133s 257ms/step - loss: 0.8828 - accuracy: 0.7046 - val_loss: 0.1489 - val_accuracy: 0.9542\n",
      "Epoch 2/10\n",
      "500/500 [==============================] - 131s 262ms/step - loss: 0.3460 - accuracy: 0.8914 - val_loss: 0.0974 - val_accuracy: 0.9695\n",
      "Epoch 3/10\n",
      "500/500 [==============================] - 132s 263ms/step - loss: 0.2483 - accuracy: 0.9246 - val_loss: 0.0929 - val_accuracy: 0.9711\n",
      "Epoch 4/10\n",
      "500/500 [==============================] - 130s 261ms/step - loss: 0.2058 - accuracy: 0.9361 - val_loss: 0.0664 - val_accuracy: 0.9805\n",
      "Epoch 5/10\n",
      "500/500 [==============================] - 131s 262ms/step - loss: 0.1786 - accuracy: 0.9477 - val_loss: 0.0522 - val_accuracy: 0.9829\n",
      "Epoch 6/10\n",
      "500/500 [==============================] - 132s 264ms/step - loss: 0.1511 - accuracy: 0.9551 - val_loss: 0.0624 - val_accuracy: 0.9811\n",
      "Epoch 7/10\n",
      "500/500 [==============================] - 131s 262ms/step - loss: 0.1449 - accuracy: 0.9565 - val_loss: 0.0511 - val_accuracy: 0.9844\n",
      "Epoch 8/10\n",
      "500/500 [==============================] - 148s 296ms/step - loss: 0.1321 - accuracy: 0.9603 - val_loss: 0.0481 - val_accuracy: 0.9847\n",
      "Epoch 9/10\n",
      "500/500 [==============================] - 134s 267ms/step - loss: 0.1288 - accuracy: 0.9607 - val_loss: 0.0414 - val_accuracy: 0.9878\n",
      "Epoch 10/10\n",
      "500/500 [==============================] - 132s 263ms/step - loss: 0.1191 - accuracy: 0.9657 - val_loss: 0.0437 - val_accuracy: 0.9872\n"
     ]
    }
   ],
   "source": [
    "batchsize=50\n",
    "epochsize=10\n",
    "stepPerEpoch=500\n",
    "history=model.fit_generator(dataGen.flow(X_train,y_train,\n",
    "                                 batch_size=batchsize),\n",
    "                                  steps_per_epoch=stepPerEpoch,\n",
    "                                   epochs=epochsize,\n",
    "                                    validation_data=(X_validation,y_validation),\n",
    "                                       shuffle=1)\n"
   ]
  },
  {
   "cell_type": "code",
   "execution_count": 47,
   "id": "bb1028fd",
   "metadata": {},
   "outputs": [
    {
     "name": "stdout",
     "output_type": "stream",
     "text": [
      "Test Score= 0.034295935183763504\n",
      "Test Accuracy= 0.9894047379493713\n"
     ]
    }
   ],
   "source": [
    "score=model.evaluate(X_test,y_test,verbose=0)\n",
    "print(\"Test Score=\",score[0])\n",
    "print(\"Test Accuracy=\",score[1])"
   ]
  },
  {
   "cell_type": "code",
   "execution_count": 48,
   "id": "3821e2f2",
   "metadata": {},
   "outputs": [],
   "source": [
    "import pickle"
   ]
  },
  {
   "cell_type": "code",
   "execution_count": 50,
   "id": "c33b5b8c",
   "metadata": {},
   "outputs": [],
   "source": [
    "pickle_out=open(\"CNN_Model_trained.h5\",\"wb\")\n",
    "pickle.dump(model,pickle_out)\n",
    "pickle_out.close()"
   ]
  },
  {
   "cell_type": "code",
   "execution_count": null,
   "id": "ebd9f042",
   "metadata": {},
   "outputs": [],
   "source": []
  }
 ],
 "metadata": {
  "kernelspec": {
   "display_name": "Python 3 (ipykernel)",
   "language": "python",
   "name": "python3"
  },
  "language_info": {
   "codemirror_mode": {
    "name": "ipython",
    "version": 3
   },
   "file_extension": ".py",
   "mimetype": "text/x-python",
   "name": "python",
   "nbconvert_exporter": "python",
   "pygments_lexer": "ipython3",
   "version": "3.9.13"
  }
 },
 "nbformat": 4,
 "nbformat_minor": 5
}
